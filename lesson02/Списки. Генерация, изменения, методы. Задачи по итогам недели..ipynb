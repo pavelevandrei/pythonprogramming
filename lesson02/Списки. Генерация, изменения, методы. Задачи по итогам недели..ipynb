{
 "cells": [
  {
   "cell_type": "markdown",
   "metadata": {},
   "source": [
    "Списки. Индексы. Слайсы."
   ]
  },
  {
   "cell_type": "code",
   "execution_count": 5,
   "metadata": {},
   "outputs": [
    {
     "name": "stdout",
     "output_type": "stream",
     "text": [
      "Hello, DJ!\n",
      "Hello, Eban!\n",
      "Hello, RoflanEbalo!\n",
      "Hello, Da suk!\n",
      "Hello, Timik!\n"
     ]
    }
   ],
   "source": [
    "students = ['DJ','Eban','RoflanEbalo','Da suk', 'Timik']\n",
    "for student in students:\n",
    "    print('Hello, ' + student + '!')"
   ]
  },
  {
   "cell_type": "code",
   "execution_count": 3,
   "metadata": {},
   "outputs": [
    {
     "data": {
      "text/plain": [
       "'DJ'"
      ]
     },
     "execution_count": 3,
     "metadata": {},
     "output_type": "execute_result"
    }
   ],
   "source": [
    "students[0]"
   ]
  },
  {
   "cell_type": "code",
   "execution_count": 6,
   "metadata": {},
   "outputs": [
    {
     "data": {
      "text/plain": [
       "'Timik'"
      ]
     },
     "execution_count": 6,
     "metadata": {},
     "output_type": "execute_result"
    }
   ],
   "source": [
    "students[-1]"
   ]
  },
  {
   "cell_type": "code",
   "execution_count": 7,
   "metadata": {},
   "outputs": [
    {
     "data": {
      "text/plain": [
       "['DJ', 'RoflanEbalo', 'Timik']"
      ]
     },
     "execution_count": 7,
     "metadata": {},
     "output_type": "execute_result"
    }
   ],
   "source": [
    "students[::2]"
   ]
  },
  {
   "cell_type": "code",
   "execution_count": 8,
   "metadata": {},
   "outputs": [
    {
     "data": {
      "text/plain": [
       "['Timik', 'Da suk', 'RoflanEbalo', 'Eban', 'DJ']"
      ]
     },
     "execution_count": 8,
     "metadata": {},
     "output_type": "execute_result"
    }
   ],
   "source": [
    "students[::-1]"
   ]
  },
  {
   "cell_type": "code",
   "execution_count": 10,
   "metadata": {},
   "outputs": [
    {
     "name": "stdout",
     "output_type": "stream",
     "text": [
      "['DJ', 'Eban', \"Don't rofl\", 'Da suk', 'Timik', 'cunt', 'tarakan']\n"
     ]
    }
   ],
   "source": [
    "lectors = ['cunt', 'tarakan']\n",
    "print(students + lectors)"
   ]
  },
  {
   "cell_type": "markdown",
   "metadata": {},
   "source": [
    "Изменение списков. Изменение по индексам без присваивания"
   ]
  },
  {
   "cell_type": "code",
   "execution_count": 9,
   "metadata": {},
   "outputs": [
    {
     "name": "stdout",
     "output_type": "stream",
     "text": [
      "['DJ', 'Eban', \"Don't rofl\", 'Da suk', 'Timik']\n"
     ]
    }
   ],
   "source": [
    "students[2] = 'Don\\'t rofl'\n",
    "print(students)"
   ]
  },
  {
   "cell_type": "code",
   "execution_count": 14,
   "metadata": {},
   "outputs": [
    {
     "name": "stdout",
     "output_type": "stream",
     "text": [
      "['DJ', 'Eban', \"Don't rofl\", 'Da suk', 'Timik', 'Lulu', 'Lulu', 'Lulu']\n"
     ]
    }
   ],
   "source": [
    "students.append('Lulu')\n",
    "print(students)"
   ]
  },
  {
   "cell_type": "code",
   "execution_count": 15,
   "metadata": {},
   "outputs": [],
   "source": [
    "students += ['GGG'] # добавляем список"
   ]
  },
  {
   "cell_type": "code",
   "execution_count": 16,
   "metadata": {},
   "outputs": [],
   "source": [
    "students += ['Johny Cage', 'Mortal Combat']"
   ]
  },
  {
   "cell_type": "code",
   "execution_count": 17,
   "metadata": {},
   "outputs": [
    {
     "name": "stdout",
     "output_type": "stream",
     "text": [
      "['DJ', 'Eban', \"Don't rofl\", 'Da suk', 'Timik', 'Lulu', 'Lulu', 'Lulu', 'GGG', 'Johny Cage', 'Mortal Combat']\n"
     ]
    }
   ],
   "source": [
    "print(students)"
   ]
  },
  {
   "cell_type": "code",
   "execution_count": 19,
   "metadata": {},
   "outputs": [],
   "source": [
    "students = [] # пустой список"
   ]
  },
  {
   "cell_type": "code",
   "execution_count": 21,
   "metadata": {},
   "outputs": [
    {
     "name": "stdout",
     "output_type": "stream",
     "text": [
      "5\n",
      "['DJ', 'EEEEBAN', 'Eban', 'RoflanEbalo', 'Da suk', 'Timik']\n",
      "6\n"
     ]
    }
   ],
   "source": [
    "students = ['DJ','Eban','RoflanEbalo','Da suk', 'Timik']\n",
    "print(len(students))\n",
    "students.insert(1, 'EEEEBAN')\n",
    "print(students)\n",
    "print(len(students))"
   ]
  },
  {
   "cell_type": "code",
   "execution_count": 22,
   "metadata": {},
   "outputs": [
    {
     "name": "stdout",
     "output_type": "stream",
     "text": [
      "['Ivan', 'Masha', 'Sasha', 'Olga', 'O', 'l', 'g', 'a']\n"
     ]
    }
   ],
   "source": [
    "students = ['Ivan', 'Masha', 'Sasha']\n",
    "students += ['Olga']\n",
    "students += 'Olga'\n",
    "print(students)"
   ]
  },
  {
   "cell_type": "code",
   "execution_count": 24,
   "metadata": {},
   "outputs": [
    {
     "name": "stdout",
     "output_type": "stream",
     "text": [
      "['Ivan', 'Masha', 'Sasha', 'Olga', 'O', 'l', 'g', 'a']\n"
     ]
    }
   ],
   "source": [
    "students.reverse()\n",
    "print(students)"
   ]
  },
  {
   "cell_type": "markdown",
   "metadata": {},
   "source": [
    "Удаление из списков. По значению:"
   ]
  },
  {
   "cell_type": "code",
   "execution_count": 25,
   "metadata": {},
   "outputs": [],
   "source": [
    "students.remove('Masha')\n"
   ]
  },
  {
   "cell_type": "code",
   "execution_count": 27,
   "metadata": {},
   "outputs": [
    {
     "name": "stdout",
     "output_type": "stream",
     "text": [
      "['Ivan', 'Sasha', 'Olga', 'O', 'l', 'g', 'a']\n"
     ]
    }
   ],
   "source": [
    "print(students)"
   ]
  },
  {
   "cell_type": "markdown",
   "metadata": {},
   "source": [
    "По индексу:"
   ]
  },
  {
   "cell_type": "code",
   "execution_count": 28,
   "metadata": {},
   "outputs": [
    {
     "name": "stdout",
     "output_type": "stream",
     "text": [
      "['Ivan', 'Olga', 'O', 'l', 'g', 'a']\n"
     ]
    }
   ],
   "source": [
    "del students[1]\n",
    "print(students)"
   ]
  },
  {
   "cell_type": "code",
   "execution_count": 2,
   "metadata": {},
   "outputs": [
    {
     "name": "stdout",
     "output_type": "stream",
     "text": [
      "['DJ', 'Da suk', 'Eban', 'RoflanEbalo', 'Timik']\n",
      "['DJ', 'Eban', 'RoflanEbalo', 'Da suk', 'Timik']\n"
     ]
    }
   ],
   "source": [
    "students = ['DJ','Eban','RoflanEbalo','Da suk', 'Timik']\n",
    "ordered_students = sorted(students)\n",
    "print(ordered_students)\n",
    "print(students)\n",
    "#список не изменился"
   ]
  },
  {
   "cell_type": "code",
   "execution_count": 6,
   "metadata": {},
   "outputs": [
    {
     "name": "stdout",
     "output_type": "stream",
     "text": [
      "['DJ', 'Da suk', 'Eban', 'RoflanEbalo', 'Timik']\n",
      "DJ\n",
      "Timik\n"
     ]
    }
   ],
   "source": [
    "students.sort()\n",
    "print(students)\n",
    "#сам список изменился\n",
    "print(min(students))\n",
    "print(max(students))"
   ]
  },
  {
   "cell_type": "markdown",
   "metadata": {},
   "source": [
    "Генерация списков"
   ]
  },
  {
   "cell_type": "code",
   "execution_count": 7,
   "metadata": {},
   "outputs": [
    {
     "name": "stdout",
     "output_type": "stream",
     "text": [
      "[0, 0, 0, 0, 0]\n"
     ]
    }
   ],
   "source": [
    "# умножением на число:\n",
    "a = [0]*5\n",
    "print(a)"
   ]
  },
  {
   "cell_type": "code",
   "execution_count": 8,
   "metadata": {},
   "outputs": [
    {
     "name": "stdout",
     "output_type": "stream",
     "text": [
      "[0, 1, 4, 9, 16]\n"
     ]
    }
   ],
   "source": [
    "#list comprehension\n",
    "a = [i*i for i in range(5)]\n",
    "print(a)"
   ]
  },
  {
   "cell_type": "code",
   "execution_count": 11,
   "metadata": {},
   "outputs": [
    {
     "name": "stdout",
     "output_type": "stream",
     "text": [
      "4 8576 35 145 \n",
      "[4, 8576, 35, 145]\n"
     ]
    }
   ],
   "source": [
    "a = [int(i) for i in input().split()]\n",
    "print(a)"
   ]
  },
  {
   "cell_type": "code",
   "execution_count": null,
   "metadata": {},
   "outputs": [],
   "source": [
    "'''Напишите программу, на вход которой подается одна строка с целыми числами. Программа должна вывести сумму этих чисел.\n",
    "\n",
    "Используйте метод split строки.'''\n",
    "a = [int(i) for i in input().split()]\n",
    "sum = 0\n",
    "for k in a:\n",
    "    sum += k\n",
    "print(sum)"
   ]
  },
  {
   "cell_type": "code",
   "execution_count": 18,
   "metadata": {},
   "outputs": [
    {
     "name": "stdout",
     "output_type": "stream",
     "text": [
      "1 2\n",
      "4 2\n"
     ]
    }
   ],
   "source": [
    "'''Напишите программу, на вход которой подается одна строка с целыми числами. Программа должна вывести сумму этих чисел.\n",
    "\n",
    "Используйте метод split строки. '''\n",
    "a = [int(i) for i in input().split()]\n",
    "b = list(a)\n",
    "\n",
    "for k in range(len(a)):\n",
    "    if k == len(a) - 1:\n",
    "        b[k]=a[0]+a[k-1]\n",
    "    else:\n",
    "        b[k]=a[k+1]+a[k-1]\n",
    "        \n",
    "#Проверка на длину в один символ:\n",
    "\n",
    "if len(a) == 1:\n",
    "    print(*a)\n",
    "else:\n",
    "    print(*b)\n"
   ]
  },
  {
   "cell_type": "code",
   "execution_count": 27,
   "metadata": {},
   "outputs": [
    {
     "name": "stdout",
     "output_type": "stream",
     "text": [
      "1 1 1 2 2 3 4 4 5\n",
      "1 2 4\n"
     ]
    }
   ],
   "source": [
    "'''\n",
    "Напишите программу, которая принимает на вход список чисел в одной строке и выводит на экран в одну строку значения, которые повторяются в нём более одного раза.\n",
    "\n",
    "Для решения задачи может пригодиться метод sort списка.\n",
    "\n",
    "Выводимые числа не должны повторяться, порядок их вывода может быть произвольным.\n",
    "'''\n",
    "a = [int(i) for i in input().split()]\n",
    "s = sorted(a)\n",
    "prev = s[-1]\n",
    "res = []\n",
    "flag_writed = False # уже записывали это число?\n",
    "for curr in s:\n",
    "    if curr == prev:\n",
    "        if not flag_writed:\n",
    "            res.append(curr)\n",
    "            flag_writed = True\n",
    "    else:\n",
    "        flag_writed = False\n",
    "    prev = curr\n",
    "    #проверка на 1\n",
    "    if (len(a) == 1):\n",
    "        res = []\n",
    "        \n",
    "print(*res)\n",
    "\n"
   ]
  },
  {
   "cell_type": "code",
   "execution_count": 28,
   "metadata": {},
   "outputs": [
    {
     "name": "stdout",
     "output_type": "stream",
     "text": [
      "Число строк матрицы: 4\n",
      "Число столбцов матрицы: 5\n",
      "0 0 0 0 0 \n",
      "0 0 0 0 0 \n",
      "0 0 0 0 0 \n",
      "0 0 0 0 0 \n"
     ]
    }
   ],
   "source": [
    "n = int(input('Число строк матрицы: '))\n",
    "m = int(input('Число столбцов матрицы: '))\n",
    "a = [[0 for j in range(m)] for i in range(n)]\n",
    "for i in range(n):\n",
    "    for j in range(m):\n",
    "        print(a[i][j], end = ' ')\n",
    "    print()"
   ]
  },
  {
   "cell_type": "markdown",
   "metadata": {},
   "source": [
    "Игра \"Сапёр\""
   ]
  },
  {
   "cell_type": "code",
   "execution_count": 41,
   "metadata": {},
   "outputs": [
    {
     "name": "stdout",
     "output_type": "stream",
     "text": [
      "5 4 4\n",
      "1 1\n",
      "2 2\n",
      "3 2\n",
      "4 4\n",
      "*21.\n",
      "3*2.\n",
      "2*31\n",
      "112*\n",
      "..11\n"
     ]
    }
   ],
   "source": [
    "\"\"\"\n",
    "Даны: Размер поля, количество мин\n",
    "Координаты всех мин\n",
    "Код, обозначающий мину \"-1\"\n",
    "\"\"\"\n",
    "#считываем размеры таблицы и количество мин:\n",
    "n, m, k = (int(i) for i in input().split())\n",
    "#инициализируем двумерный массив:\n",
    "a = [[0 for j in range(m)] for i in range(n)]\n",
    "#Считываем пары координат мин, уменьшаем их на единицу, количество мин известно:\n",
    "for i in range(k):\n",
    "    row, col = ((int(i) - 1) for i in input().split())\n",
    "    a[row][col] = -1\n",
    "#Далее заполняем таблицу\n",
    "for i in range(n):\n",
    "    for j in range(m):\n",
    "        if (a[i][j] == 0):\n",
    "            #смотрим 8 клеток вокруг заданной\n",
    "            for di in range(-1, 2):\n",
    "                for dj in range(-1, 2):\n",
    "                    #координата клетки, которую мы смотрим:\n",
    "                    ai = i + di\n",
    "                    aj = j + dj\n",
    "                    # проверяем, не попали ли мы на границу и есть ли там мина:\n",
    "                    if 0 <= ai < n and 0 <= aj < m and a[ai][aj] == -1:\n",
    "                        a[i][j] += 1\n",
    "\n",
    "#нужно вывести таблицу\n",
    "for i in range(n):\n",
    "    for j in range(m):\n",
    "        if (a[i][j] == -1):\n",
    "            print('*', end = '')\n",
    "        elif (a[i][j] == 0):\n",
    "            print('.', end = '')\n",
    "        else:\n",
    "            print(a[i][j], end='')\n",
    "    print()"
   ]
  },
  {
   "cell_type": "code",
   "execution_count": 7,
   "metadata": {},
   "outputs": [
    {
     "name": "stdout",
     "output_type": "stream",
     "text": [
      "1 2 3\n",
      "4\n",
      "Отсутствует\n"
     ]
    }
   ],
   "source": [
    "'''\n",
    "Напишите программу, которая считывает список чисел lst из первой строки и число x из второй строки, которая выводит все позиции, на которых встречается число x в переданном списке lst.\n",
    "\n",
    "Позиции нумеруются с нуля, если число x не встречается в списке, вывести строку \"Отсутствует\" (без кавычек, с большой буквы).\n",
    "\n",
    "Позиции должны быть выведены в одну строку, по возрастанию абсолютного значения.\n",
    "'''\n",
    "lst = [int(i) for i in input().split()]\n",
    "x = int(input()) #считаем, что x - только целое\n",
    "positions = []\n",
    "counter = 0\n",
    "for i in lst:\n",
    "    if i == x:\n",
    "        positions.append(counter)\n",
    "    counter += 1\n",
    "if len(positions) != 0:\n",
    "    print(*positions)\n",
    "else:\n",
    "    print('Отсутствует')"
   ]
  },
  {
   "cell_type": "code",
   "execution_count": 37,
   "metadata": {},
   "outputs": [
    {
     "name": "stdout",
     "output_type": "stream",
     "text": [
      "1\n",
      "end\n",
      "4 \n"
     ]
    }
   ],
   "source": [
    "import copy\n",
    "matrix = []\n",
    "temp_list = []\n",
    "read_flag = True\n",
    "res = [] # матрица результатов\n",
    "while read_flag:\n",
    "    input_str = input().split()\n",
    "    if input_str[0] == 'end':\n",
    "        break\n",
    "    temp_list = [int(i) for i in input_str]\n",
    "    matrix.append(temp_list)\n",
    "    temp_list = []\n",
    "\n",
    "\n",
    "n = len(matrix) # количество строк\n",
    "m = len(matrix[0]) #количество столбцов\n",
    "res = copy.deepcopy(matrix) # делаем копию\n",
    "for i in range(n):\n",
    "    for j in range(m):\n",
    "        s = 0\n",
    "        s += matrix[i-1][j]\n",
    "        s += matrix[i][j-1]\n",
    "        if j == (m-1): # правая граница\n",
    "            s += matrix[i][0]\n",
    "        else:\n",
    "            s += matrix[i][j+1]\n",
    "            \n",
    "        if i == (n-1): # нижняя граница\n",
    "            s += matrix[0][j]\n",
    "        else: \n",
    "            s += matrix[i+1][j]\n",
    "        res[i][j] = s \n",
    "for i in range(n):\n",
    "    for j in range(m):\n",
    "        print(res[i][j], end=' ')\n",
    "    print()\n"
   ]
  },
  {
   "cell_type": "code",
   "execution_count": 41,
   "metadata": {},
   "outputs": [
    {
     "name": "stdout",
     "output_type": "stream",
     "text": [
      "[[1, 2, 3], [4, 5, 6], [7, 8, 9]]\n",
      "[[1, 2, 3], [4, 5, 6], [7, 8, 9]] [[100, 2, 3], [4, 5, 6], [7, 8, 9]]\n"
     ]
    }
   ],
   "source": [
    "# реализуем глубокое копирование самостоятельно:\n",
    "matrix = [[1, 2, 3],[4, 5, 6],[7, 8, 9]]\n",
    "n = len(matrix) # количество строк\n",
    "m = len(matrix[0]) #количество столбцов\n",
    "res = []\n",
    "for i in range(n):\n",
    "        res.append(list(matrix[i]))\n",
    "print(res)\n",
    "res[0][0] = 100\n",
    "print(matrix, res)"
   ]
  },
  {
   "cell_type": "code",
   "execution_count": 32,
   "metadata": {},
   "outputs": [
    {
     "data": {
      "text/plain": [
       "range(1, 4)"
      ]
     },
     "execution_count": 32,
     "metadata": {},
     "output_type": "execute_result"
    }
   ],
   "source": [
    "range(u_b, d_b + 1)"
   ]
  },
  {
   "cell_type": "code",
   "execution_count": 4,
   "metadata": {},
   "outputs": [
    {
     "data": {
      "text/plain": [
       "[0, 1, 2, 3]"
      ]
     },
     "execution_count": 4,
     "metadata": {},
     "output_type": "execute_result"
    }
   ],
   "source": [
    "list(range(4))"
   ]
  },
  {
   "cell_type": "code",
   "execution_count": 60,
   "metadata": {},
   "outputs": [
    {
     "name": "stdout",
     "output_type": "stream",
     "text": [
      "5\n",
      "17\n",
      "25\n",
      "26\n",
      "[[1, 2, 3, 4, 5], [16, 17, 18, 19, 6], [15, 24, 25, 20, 7], [14, 23, 22, 21, 8], [13, 12, 11, 10, 9]]\n",
      "1 2 3 4 5 \n",
      "16 17 18 19 6 \n",
      "15 24 25 20 7 \n",
      "14 23 22 21 8 \n",
      "13 12 11 10 9 \n"
     ]
    }
   ],
   "source": [
    "nn = int(input())\n",
    "matrix = [[0 for _ in range(nn)] for __ in range(nn)]\n",
    "u_b = 0\n",
    "d_b = nn-1\n",
    "r_b = nn-1\n",
    "l_b = 0\n",
    "n = 1\n",
    "while n <= nn*nn:\n",
    "    for j in range(l_b, r_b + 1):\n",
    "        matrix[u_b][j] = n\n",
    "        n += 1\n",
    "    u_b += 1\n",
    "    for i in range(u_b, d_b + 1):\n",
    "        matrix[i][r_b] = n\n",
    "        n += 1\n",
    "    r_b -=1\n",
    "    #if r_b < l_b:\n",
    "    #    break\n",
    "    for j in range(r_b, l_b-1, -1):\n",
    "        matrix[d_b][j] = n\n",
    "        n += 1\n",
    "    d_b -=1\n",
    "    for i in range(d_b, u_b-1, -1):\n",
    "        matrix[i][l_b] = n\n",
    "        n += 1\n",
    "    l_b += 1\n",
    "    print(n)\n",
    "print(matrix)\n",
    "matrix[0][0]\n",
    "for i in range(nn):\n",
    "    for j in range(nn):\n",
    "        #print(i, j)\n",
    "        print(matrix[i][j], end = ' ')\n",
    "    print()"
   ]
  },
  {
   "cell_type": "code",
   "execution_count": null,
   "metadata": {},
   "outputs": [],
   "source": []
  }
 ],
 "metadata": {
  "kernelspec": {
   "display_name": "Python 3",
   "language": "python",
   "name": "python3"
  },
  "language_info": {
   "codemirror_mode": {
    "name": "ipython",
    "version": 3
   },
   "file_extension": ".py",
   "mimetype": "text/x-python",
   "name": "python",
   "nbconvert_exporter": "python",
   "pygments_lexer": "ipython3",
   "version": "3.7.3"
  }
 },
 "nbformat": 4,
 "nbformat_minor": 2
}
