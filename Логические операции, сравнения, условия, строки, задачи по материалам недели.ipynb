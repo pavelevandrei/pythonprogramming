{
 "cells": [
  {
   "cell_type": "code",
   "execution_count": 1,
   "metadata": {},
   "outputs": [
    {
     "name": "stdout",
     "output_type": "stream",
     "text": [
      "1\n"
     ]
    },
    {
     "data": {
      "text/plain": [
       "'1'"
      ]
     },
     "execution_count": 1,
     "metadata": {},
     "output_type": "execute_result"
    }
   ],
   "source": [
    "input()"
   ]
  },
  {
   "cell_type": "code",
   "execution_count": 2,
   "metadata": {},
   "outputs": [
    {
     "name": "stdout",
     "output_type": "stream",
     "text": [
      "Hello12\n"
     ]
    },
    {
     "data": {
      "text/plain": [
       "'12'"
      ]
     },
     "execution_count": 2,
     "metadata": {},
     "output_type": "execute_result"
    }
   ],
   "source": [
    "input('Hello')"
   ]
  },
  {
   "cell_type": "code",
   "execution_count": 5,
   "metadata": {},
   "outputs": [
    {
     "name": "stdout",
     "output_type": "stream",
     "text": [
      "10\n",
      "True\n"
     ]
    }
   ],
   "source": [
    "a=int(input())\n",
    "print(a < 100 and a >= 10)"
   ]
  },
  {
   "cell_type": "code",
   "execution_count": 6,
   "metadata": {},
   "outputs": [
    {
     "name": "stdout",
     "output_type": "stream",
     "text": [
      "20\n",
      "True\n"
     ]
    }
   ],
   "source": [
    "a=int(input())\n",
    "print(10 <= a < 100)"
   ]
  },
  {
   "cell_type": "code",
   "execution_count": 10,
   "metadata": {},
   "outputs": [],
   "source": [
    "x1, x2, x3 = False, True, False"
   ]
  },
  {
   "cell_type": "code",
   "execution_count": 11,
   "metadata": {},
   "outputs": [
    {
     "data": {
      "text/plain": [
       "True"
      ]
     },
     "execution_count": 11,
     "metadata": {},
     "output_type": "execute_result"
    }
   ],
   "source": [
    "not x1 or x2 and x3"
   ]
  },
  {
   "cell_type": "code",
   "execution_count": 12,
   "metadata": {},
   "outputs": [
    {
     "data": {
      "text/plain": [
       "False"
      ]
     },
     "execution_count": 12,
     "metadata": {},
     "output_type": "execute_result"
    }
   ],
   "source": [
    "((not x1) or x2) and x3"
   ]
  },
  {
   "cell_type": "code",
   "execution_count": 13,
   "metadata": {},
   "outputs": [
    {
     "data": {
      "text/plain": [
       "'порядок вычислений логических выражений важен!'"
      ]
     },
     "execution_count": 13,
     "metadata": {},
     "output_type": "execute_result"
    }
   ],
   "source": [
    "'порядок вычислений логических выражений важен!'"
   ]
  },
  {
   "cell_type": "code",
   "execution_count": 14,
   "metadata": {},
   "outputs": [
    {
     "data": {
      "text/plain": [
       "True"
      ]
     },
     "execution_count": 14,
     "metadata": {},
     "output_type": "execute_result"
    }
   ],
   "source": [
    "x = 5\n",
    "y = 10\n",
    "y > x * x or y >= 2 * x and x < y"
   ]
  },
  {
   "cell_type": "code",
   "execution_count": 15,
   "metadata": {},
   "outputs": [
    {
     "data": {
      "text/plain": [
       "False"
      ]
     },
     "execution_count": 15,
     "metadata": {},
     "output_type": "execute_result"
    }
   ],
   "source": [
    "a = True\n",
    "b = False\n",
    "a and b or not a and not b"
   ]
  },
  {
   "cell_type": "code",
   "execution_count": 17,
   "metadata": {},
   "outputs": [
    {
     "name": "stdout",
     "output_type": "stream",
     "text": [
      "24\n",
      "Четное\n"
     ]
    }
   ],
   "source": [
    "x=int(input())\n",
    "if x%2 == 0:\n",
    "    print('Четное')\n",
    "else:\n",
    "    print('Нечетное')"
   ]
  },
  {
   "cell_type": "code",
   "execution_count": 18,
   "metadata": {},
   "outputs": [
    {
     "data": {
      "text/plain": [
       "8"
      ]
     },
     "execution_count": 18,
     "metadata": {},
     "output_type": "execute_result"
    }
   ],
   "source": [
    "max(7,8)"
   ]
  },
  {
   "cell_type": "code",
   "execution_count": 23,
   "metadata": {},
   "outputs": [
    {
     "name": "stdout",
     "output_type": "stream",
     "text": [
      "5\n",
      "2\n",
      "2.5\n"
     ]
    }
   ],
   "source": [
    "a = int(input())\n",
    "b = int(input())\n",
    "if b != 0:\n",
    "    print(a/b)\n",
    "else: \n",
    "    print('Деление невозможно!')\n",
    "    b = int(input('Введите ненулевое число'))\n",
    "    if b !=0:\n",
    "        print(a/b)\n",
    "    else: \n",
    "        print('Вы не справились!')"
   ]
  },
  {
   "cell_type": "code",
   "execution_count": 28,
   "metadata": {},
   "outputs": [
    {
     "name": "stdout",
     "output_type": "stream",
     "text": [
      "5\n",
      "2\n",
      "mod\n",
      "1.0\n"
     ]
    }
   ],
   "source": [
    "a = float(input())\n",
    "b = float(input())\n",
    "text = str(input())\n",
    "if text == 'div':\n",
    "    if b == 0:\n",
    "        print('Деление на 0!')\n",
    "    else:\n",
    "        print(a//b)\n",
    "elif text == 'mod':\n",
    "    print(a%b)\n",
    "elif text == 'pow':\n",
    "    print(a**b)\n",
    "elif text == '+':\n",
    "    print(a+b)\n",
    "elif text == '-':\n",
    "    print(a-b)\n",
    "elif text == '*':\n",
    "    print(a*b)\n",
    "elif text == '/':\n",
    "    print(a/b)\n",
    "else:\n",
    "    print('Операция не поддерживается')\n",
    "    "
   ]
  },
  {
   "cell_type": "code",
   "execution_count": 6,
   "metadata": {},
   "outputs": [
    {
     "name": "stdout",
     "output_type": "stream",
     "text": [
      "10\n",
      "20\n",
      "20\n",
      "20\n",
      "10\n",
      "20\n"
     ]
    }
   ],
   "source": [
    "a=int(input())\n",
    "b=int(input())\n",
    "c=int(input())\n",
    "min = a\n",
    "max = a\n",
    "if b < min:\n",
    "    min = b\n",
    "elif b >= max:\n",
    "    max = b\n",
    "if c < min:\n",
    "    min = c\n",
    "elif c >= max:\n",
    "    max = c\n",
    "print (str(max)+'\\n'+str(min)+'\\n'+str(a+b+c-min-max))\n",
    "\n",
    "    "
   ]
  },
  {
   "cell_type": "code",
   "execution_count": 26,
   "metadata": {},
   "outputs": [
    {
     "ename": "SyntaxError",
     "evalue": "invalid syntax (<ipython-input-26-b7ab46a10f91>, line 7)",
     "output_type": "error",
     "traceback": [
      "\u001b[1;36m  File \u001b[1;32m\"<ipython-input-26-b7ab46a10f91>\"\u001b[1;36m, line \u001b[1;32m7\u001b[0m\n\u001b[1;33m    min, max = (c, max) if c < min\u001b[0m\n\u001b[1;37m                                   ^\u001b[0m\n\u001b[1;31mSyntaxError\u001b[0m\u001b[1;31m:\u001b[0m invalid syntax\n"
     ]
    }
   ],
   "source": [
    "a=int(input())\n",
    "b=int(input())\n",
    "c=int(input())\n",
    "min = a\n",
    "max = a\n",
    "min, max = (b, max) if b < min else (min, b)\n",
    "min, max = (c, max) if c < min and c < b else (min, c)\n",
    "print (str(max)+'\\n'+str(min)+'\\n'+str(a+b+c-min-max))\n",
    "## Неверное решение, в два тернарных оператора не решается"
   ]
  },
  {
   "cell_type": "code",
   "execution_count": 17,
   "metadata": {},
   "outputs": [
    {
     "name": "stdout",
     "output_type": "stream",
     "text": [
      "31\n",
      "31 программист\n"
     ]
    }
   ],
   "source": [
    "n = int(input())\n",
    "if n % 10 == 1:\n",
    "    if n % 100 == 11:\n",
    "        print(str(n)+' программистов')\n",
    "    else:\n",
    "        print(str(n)+' программист')\n",
    "if n % 10 == 2 or n % 10 == 3 or n % 10 == 4:\n",
    "    if n % 100 == 12 or n % 100 == 13 or n % 100 == 14:\n",
    "        print(str(n)+' программистов')\n",
    "    else:\n",
    "        print(str(n)+' программиста')\n",
    "if n % 10 == 5 or n % 10 == 6 or n % 10 == 7 or n % 10 == 8 or n % 10 == 9 or n % 10 == 0:\n",
    "    print(str(n)+' программистов')"
   ]
  },
  {
   "cell_type": "code",
   "execution_count": 50,
   "metadata": {},
   "outputs": [
    {
     "name": "stdout",
     "output_type": "stream",
     "text": [
      "4 34 234 234 90234 90234\n",
      "4 3 2 0 9 0\n",
      "Счастливый\n"
     ]
    }
   ],
   "source": [
    "astr = '090234'\n",
    "a = int(astr)\n",
    "\n",
    "\n",
    "a1=a%10\n",
    "a2=a%100\n",
    "a3=a%1000\n",
    "a4=a%10000\n",
    "a5=a%100000\n",
    "a6=a%1000000\n",
    "#a1=a-a//10*10\n",
    "#a2=a-a//100*100\n",
    "#a3=a-a//1000*1000\n",
    "#a4=a-a//10000*10000\n",
    "#a5=a-a//100000*100000\n",
    "#a6=a-a//1000000*1000000\n",
    "print(a1, a2, a3, a4, a5, a6)\n",
    "b1=int(a1)\n",
    "b2=int((a2-a1)/10)\n",
    "b3=int((a3-a2)/100)\n",
    "b4=int((a4-a3)/1000)\n",
    "b5=int((a5-a4)/10000)\n",
    "b6=int((a6-a5)/100000)\n",
    "print(b1, b2, b3, b4, b5, b6)\n",
    "if b1+b2+b3 == b4+b5+b6:\n",
    "    print('Счастливый')\n",
    "else:\n",
    "    print('Обычный')"
   ]
  },
  {
   "cell_type": "code",
   "execution_count": 53,
   "metadata": {},
   "outputs": [
    {
     "name": "stdout",
     "output_type": "stream",
     "text": [
      "5 4 3 2 1 "
     ]
    }
   ],
   "source": [
    "a=5\n",
    "while a>0:\n",
    "    print(a, end=' ')\n",
    "    a -= 1\n",
    "    "
   ]
  },
  {
   "cell_type": "code",
   "execution_count": 54,
   "metadata": {},
   "outputs": [
    {
     "name": "stdout",
     "output_type": "stream",
     "text": [
      "5\n",
      "7\n",
      "9\n",
      "11\n",
      "13\n",
      "15\n",
      "17\n",
      "19\n",
      "21\n",
      "23\n",
      "25\n",
      "27\n",
      "29\n",
      "31\n",
      "33\n",
      "35\n",
      "37\n",
      "39\n",
      "41\n",
      "43\n",
      "45\n",
      "47\n",
      "49\n",
      "51\n",
      "53\n",
      "55\n"
     ]
    }
   ],
   "source": [
    "a = 5\n",
    "while a <= 55:\n",
    "    print(a)\n",
    "    a += 2\n",
    "\n",
    "        "
   ]
  },
  {
   "cell_type": "code",
   "execution_count": 55,
   "metadata": {},
   "outputs": [],
   "source": [
    "i = 0\n",
    "while i <= 10:\n",
    "    i = i + 1\n",
    "    if i > 7:\n",
    "        i = i + 2"
   ]
  },
  {
   "cell_type": "code",
   "execution_count": 56,
   "metadata": {},
   "outputs": [
    {
     "name": "stdout",
     "output_type": "stream",
     "text": [
      "13\n"
     ]
    }
   ],
   "source": [
    "print(i)"
   ]
  },
  {
   "cell_type": "code",
   "execution_count": null,
   "metadata": {},
   "outputs": [],
   "source": []
  }
 ],
 "metadata": {
  "kernelspec": {
   "display_name": "Python 3",
   "language": "python",
   "name": "python3"
  },
  "language_info": {
   "codemirror_mode": {
    "name": "ipython",
    "version": 3
   },
   "file_extension": ".py",
   "mimetype": "text/x-python",
   "name": "python",
   "nbconvert_exporter": "python",
   "pygments_lexer": "ipython3",
   "version": "3.7.3"
  }
 },
 "nbformat": 4,
 "nbformat_minor": 2
}
