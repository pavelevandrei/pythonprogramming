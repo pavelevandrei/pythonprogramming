{
 "cells": [
  {
   "cell_type": "code",
   "execution_count": 3,
   "metadata": {},
   "outputs": [
    {
     "name": "stdout",
     "output_type": "stream",
     "text": [
      "set() {'grapefruit', 'banana', 'orange', 'pineapple', 'apple'}\n"
     ]
    },
    {
     "data": {
      "text/plain": [
       "True"
      ]
     },
     "execution_count": 3,
     "metadata": {},
     "output_type": "execute_result"
    }
   ],
   "source": [
    "s = set()\n",
    "basket = {'banana', 'orange', 'apple', 'grapefruit', 'apple', 'pineapple'}\n",
    "print(s, basket)\n",
    "# Проверка нахождения во множестве:\n",
    "'apple' in basket"
   ]
  },
  {
   "cell_type": "code",
   "execution_count": 4,
   "metadata": {},
   "outputs": [
    {
     "name": "stdout",
     "output_type": "stream",
     "text": [
      "grapefruit\n",
      "banana\n",
      "orange\n",
      "pineapple\n",
      "apple\n"
     ]
    }
   ],
   "source": [
    "basket = {'banana', 'orange', 'apple', 'grapefruit', 'apple', 'pineapple'}\n",
    "for x in basket:\n",
    "    print(x)"
   ]
  },
  {
   "cell_type": "code",
   "execution_count": 4,
   "metadata": {},
   "outputs": [
    {
     "name": "stdout",
     "output_type": "stream",
     "text": [
      "a\n",
      "10\n",
      "245\n",
      "34\n",
      "245\n"
     ]
    }
   ],
   "source": [
    "dict, {}\n",
    "d = {'a' : 245, 10 : 34}\n",
    "for i in d: #напечатал ключи\n",
    "    print(i)\n",
    "for i in d:\n",
    "    print(d[i])\n",
    "print(d['a'])"
   ]
  },
  {
   "cell_type": "code",
   "execution_count": 1,
   "metadata": {},
   "outputs": [
    {
     "data": {
      "text/plain": [
       "{}"
      ]
     },
     "execution_count": 1,
     "metadata": {},
     "output_type": "execute_result"
    }
   ],
   "source": [
    "d = dict()\n",
    "d"
   ]
  },
  {
   "cell_type": "code",
   "execution_count": 2,
   "metadata": {},
   "outputs": [
    {
     "data": {
      "text/plain": [
       "{}"
      ]
     },
     "execution_count": 2,
     "metadata": {},
     "output_type": "execute_result"
    }
   ],
   "source": [
    "d = {}\n",
    "d"
   ]
  },
  {
   "cell_type": "code",
   "execution_count": 14,
   "metadata": {},
   "outputs": [
    {
     "name": "stdout",
     "output_type": "stream",
     "text": [
      "True\n",
      "False\n",
      "True\n",
      "2028\n",
      "None\n",
      "{'a': 365, 'd': 258}\n"
     ]
    }
   ],
   "source": [
    "d = {'a' : 365, 'b' : 2028}\n",
    "print('b' in d) \n",
    "print('c' in d)\n",
    "print('c' not in d)\n",
    "print(d['b'])\n",
    "d['d'] = 258\n",
    "print(d.get('m')) # не выдает ошибку\n",
    "del d['b']\n",
    "print(d)"
   ]
  },
  {
   "cell_type": "code",
   "execution_count": 26,
   "metadata": {},
   "outputs": [
    {
     "name": "stdout",
     "output_type": "stream",
     "text": [
      "CATG\n",
      "CATG\n",
      "14 12 9 18 \n",
      "C 14; A 12; T 9; G 18; "
     ]
    }
   ],
   "source": [
    "d = {'C' : 14, 'A' : 12, 'T' : 9, 'G' : 18}\n",
    "for key in d:\n",
    "    print(key, end = '')\n",
    "print()\n",
    "type(d.keys())\n",
    "for key in d.keys():\n",
    "    print(key, end = '')\n",
    "print()\n",
    "for value in d.values():\n",
    "    print(value, end = ' ')\n",
    "print()\n",
    "type(d.items())\n",
    "for key, value in d.items():\n",
    "    print(key, value, end = '; ')"
   ]
  },
  {
   "cell_type": "code",
   "execution_count": 22,
   "metadata": {},
   "outputs": [
    {
     "name": "stdout",
     "output_type": "stream",
     "text": [
      "{'1': ['Privet', 'mir'], '2': ['ROFL']}\n"
     ]
    }
   ],
   "source": [
    "d = {'1' : [], '2' : []}\n",
    "d['1'].append('Privet')\n",
    "d['1'].append('mir')\n",
    "d['2'].append('ROFL')\n",
    "print(d)"
   ]
  },
  {
   "cell_type": "code",
   "execution_count": 29,
   "metadata": {},
   "outputs": [
    {
     "name": "stdout",
     "output_type": "stream",
     "text": [
      "None\n",
      "{2: [-1]}\n",
      "{2: [-1, -2]}\n",
      "{2: [-1, -2, -3]}\n"
     ]
    }
   ],
   "source": [
    "''' Напишите функцию update_dictionary(d, key, value), которая принимает на вход словарь d и два числа: key и value.\n",
    "\n",
    "Если ключ key есть в словаре d, то добавьте значение value в список, который хранится по этому ключу.\n",
    "Если ключа key нет в словаре, то нужно добавить значение в список по ключу 2∗key. Если и ключа 2∗key нет, то нужно добавить ключ 2∗key в словарь и сопоставить ему список из переданного элемента [value].\n",
    "\n",
    "Требуется реализовать только эту функцию, кода вне неё не должно быть.\n",
    "Функция не должна вызывать внутри себя функции input и print.\n",
    "'''\n",
    "# не добавляйте кода вне функции\n",
    "\n",
    "def update_dictionary(d, key, value):\n",
    "    # put your python code here\n",
    "    if key in d:\n",
    "        d[key].append(value)\n",
    "    elif (2*key) in d:\n",
    "        d[2*key].append(value)\n",
    "    else:\n",
    "        d[2*key]=[value]\n",
    "# не добавляйте кода вне функции\n",
    "d = {}\n",
    "print(update_dictionary(d, 1, -1))  # None\n",
    "print(d)                            # {2: [-1]}\n",
    "update_dictionary(d, 2, -2)\n",
    "print(d)                            # {2: [-1, -2]}\n",
    "update_dictionary(d, 1, -3)\n",
    "print(d)                            # {2: [-1, -2, -3]}"
   ]
  },
  {
   "cell_type": "code",
   "execution_count": 38,
   "metadata": {},
   "outputs": [
    {
     "name": "stdout",
     "output_type": "stream",
     "text": [
      "Converts the first character to upper case casefold()\tConverts string into lower case center()\tReturns a centered string count()\tReturns the number of times a specified value occurs in a string encode()\tReturns an encoded version of the string endswith()\tReturns true if the string ends with the specified value expandtabs()\tSets the tab size of the string find()\tSearches the string for a specified value and returns the position of where it was found format()\tFormats specified values in a string format_map()\tFormats specified values in a string index()\tSearches the string for a specified value and returns the position of where it was found isalnum()\tReturns True if all characters in the string are alphanumeric isalpha()\tReturns True if all characters in the string are in the alphabet isdecimal()\tReturns True if all characters in the string are decimals isdigit()\tReturns True if all characters in the string are digits isidentifier()\tReturns True if the string is an identifier islower()\tReturns True if all characters in the string are lower case isnumeric()\tReturns True if all characters in the string are numeric isprintable()\tReturns True if all characters in the string are printable isspace()\tReturns True if all characters in the string are whitespaces istitle()\tReturns True if the string follows the rules of a title isupper()\tReturns True if all characters in the string are upper case join()\tJoins the elements of an iterable to the end of the string ljust()\tReturns a left justified version of the string lower()\tConverts a string into lower case lstrip()\tReturns a left trim version of the string maketrans()\tReturns a translation table to be used in translations partition()\tReturns a tuple where the string is parted into three parts replace()\tReturns a string where a specified value is replaced with a specified value rfind()\tSearches the string for a specified value and returns the last position of where it was found rindex()\tSearches the string for a specified value and returns the last position of where it was found rjust()\tReturns a right justified version of the string rpartition()\tReturns a tuple where the string is parted into three parts rsplit()\tSplits the string at the specified separator, and returns a list rstrip()\tReturns a right trim version of the string split()\tSplits the string at the specified separator, and returns a list splitlines()\tSplits the string at line breaks and returns a list startswith()\tReturns true if the string starts with the specified value strip()\tReturns a trimmed version of the string swapcase()\tSwaps cases, lower case becomes upper case and vice versa title()\tConverts the first character of each word to upper case translate()\tReturns a translated string upper()\tConverts a string into upper case zfill()\tFills the string with a specified number of 0 values at the beginning\n",
      "converts 5\n",
      "the 48\n",
      "first 2\n",
      "character 2\n",
      "to 4\n",
      "upper 5\n",
      "case 9\n",
      "casefold() 1\n",
      "string 40\n",
      "into 5\n",
      "lower 4\n",
      "center() 1\n",
      "returns 33\n",
      "a 28\n",
      "centered 1\n",
      "count() 1\n",
      "number 2\n",
      "of 17\n",
      "times 1\n",
      "specified 14\n",
      "value 9\n",
      "occurs 1\n",
      "in 14\n",
      "encode() 1\n",
      "an 3\n",
      "encoded 1\n",
      "version 6\n",
      "endswith() 1\n",
      "true 13\n",
      "if 13\n",
      "ends 1\n",
      "with 4\n",
      "expandtabs() 1\n",
      "sets 1\n",
      "tab 1\n",
      "size 1\n",
      "find() 1\n",
      "searches 4\n",
      "for 4\n",
      "and 8\n",
      "position 4\n",
      "where 7\n",
      "it 4\n",
      "was 4\n",
      "found 4\n",
      "format() 1\n",
      "formats 2\n",
      "values 3\n",
      "format_map() 1\n",
      "index() 1\n",
      "isalnum() 1\n",
      "all 9\n",
      "characters 9\n",
      "are 9\n",
      "alphanumeric 1\n",
      "isalpha() 1\n",
      "alphabet 1\n",
      "isdecimal() 1\n",
      "decimals 1\n",
      "isdigit() 1\n",
      "digits 1\n",
      "isidentifier() 1\n",
      "is 4\n",
      "identifier 1\n",
      "islower() 1\n",
      "isnumeric() 1\n",
      "numeric 1\n",
      "isprintable() 1\n",
      "printable 1\n",
      "isspace() 1\n",
      "whitespaces 1\n",
      "istitle() 1\n",
      "follows 1\n",
      "rules 1\n",
      "title 1\n",
      "isupper() 1\n",
      "join() 1\n",
      "joins 1\n",
      "elements 1\n",
      "iterable 1\n",
      "end 1\n",
      "ljust() 1\n",
      "left 2\n",
      "justified 2\n",
      "lower() 1\n",
      "lstrip() 1\n",
      "trim 2\n",
      "maketrans() 1\n",
      "translation 1\n",
      "table 1\n",
      "be 1\n",
      "used 1\n",
      "translations 1\n",
      "partition() 1\n",
      "tuple 2\n",
      "parted 2\n",
      "three 2\n",
      "parts 2\n",
      "replace() 1\n",
      "replaced 1\n",
      "rfind() 1\n",
      "last 2\n",
      "rindex() 1\n",
      "rjust() 1\n",
      "right 2\n",
      "rpartition() 1\n",
      "rsplit() 1\n",
      "splits 3\n",
      "at 4\n",
      "separator, 2\n",
      "list 3\n",
      "rstrip() 1\n",
      "split() 1\n",
      "splitlines() 1\n",
      "line 1\n",
      "breaks 1\n",
      "startswith() 1\n",
      "starts 1\n",
      "strip() 1\n",
      "trimmed 1\n",
      "swapcase() 1\n",
      "swaps 1\n",
      "cases, 1\n",
      "becomes 1\n",
      "vice 1\n",
      "versa 1\n",
      "title() 1\n",
      "each 1\n",
      "word 1\n",
      "translate() 1\n",
      "translated 1\n",
      "upper() 1\n",
      "zfill() 1\n",
      "fills 1\n",
      "0 1\n",
      "beginning 1\n"
     ]
    }
   ],
   "source": [
    "''' Когда Антон прочитал «Войну и мир», ему стало интересно, сколько слов и в каком количестве используется в этой книге.\n",
    "\n",
    "Помогите Антону написать упрощённую версию такой программы, которая сможет подсчитать слова, разделённые пробелом и \n",
    "вывести получившуюся статистику.\n",
    "\n",
    "Программа должна считывать одну строку со стандартного ввода и выводить для каждого уникального слова в \n",
    "этой строке число его повторений (без учёта регистра) в формате \"слово количество\" (см. пример вывода). \n",
    "Порядок вывода слов может быть произвольным, каждое уникальное слово﻿ должно выводиться только один раз.\n",
    "'''\n",
    "st = input().lower().split()\n",
    "d = dict()\n",
    "for it in st:\n",
    "    if it not in d:\n",
    "        d[it] = 1 # если хоть раз втсретилось, значит один\n",
    "    else:\n",
    "        d[it] += 1 # прибавляем единицу каждый раз, когда встретили слово еще раз\n",
    "for key, value in d.items():\n",
    "    print(key, value)"
   ]
  },
  {
   "cell_type": "markdown",
   "metadata": {},
   "source": [
    "Реализация кэша на основе словаря!"
   ]
  },
  {
   "cell_type": "code",
   "execution_count": 46,
   "metadata": {},
   "outputs": [
    {
     "name": "stdout",
     "output_type": "stream",
     "text": [
      "10\n",
      "5\n",
      "3125\n",
      "2\n",
      "4\n",
      "3\n",
      "27\n",
      "4\n",
      "256\n",
      "5\n",
      "3125\n",
      "9\n",
      "387420489\n",
      "10\n",
      "10000000000\n",
      "12\n",
      "8916100448256\n",
      "78\n",
      "3831589812313461262138726500006414268147534037893115512325908939170687185145438579006950082195309705885134607990418665607337632973770507236843454464\n",
      "7\n",
      "823543\n",
      "{5: 3125, 2: 4, 3: 27, 4: 256, 9: 387420489, 10: 10000000000, 12: 8916100448256, 78: 3831589812313461262138726500006414268147534037893115512325908939170687185145438579006950082195309705885134607990418665607337632973770507236843454464, 7: 823543}\n"
     ]
    }
   ],
   "source": [
    "'''Имеется реализованная функция f(x), принимающая на вход целое число x, которая вычисляет некоторое целочисленое значение и возвращает его в качестве результата работы.\n",
    "\n",
    "Функция вычисляется достаточно долго, ничего не выводит на экран, не пишет в файлы и зависит только от переданного аргумента x.\n",
    "\n",
    "Напишите программу, которой на вход в первой строке подаётся число n — количество значений x, для которых требуется узнать значение функции f(x), после чего сами эти n значений, каждое на отдельной строке. Программа должна после каждого введённого значения аргумента вывести соответствующие значения функции f на отдельной строке.\n",
    "\n",
    "Для ускорения вычисления необходимо сохранять уже вычисленные значения функции при известных аргументах.\n",
    "\n",
    "Обратите внимание, что в этой задаче установлено достаточно сильное ограничение в две секунды по времени исполнения кода на тесте.'''\n",
    "def f(x):\n",
    "    return x**x\n",
    "\n",
    "d = dict()\n",
    "n = int(input())\n",
    "for _ in range(n):\n",
    "    x = int(input())\n",
    "    \n",
    "    if x not in d:\n",
    "        fx = f(x)\n",
    "        d[x] = fx\n",
    "        print(fx)\n",
    "    else:\n",
    "        print(d[x])\n",
    "#print(d)"
   ]
  },
  {
   "cell_type": "code",
   "execution_count": null,
   "metadata": {},
   "outputs": [],
   "source": []
  }
 ],
 "metadata": {
  "kernelspec": {
   "display_name": "Python 3",
   "language": "python",
   "name": "python3"
  },
  "language_info": {
   "codemirror_mode": {
    "name": "ipython",
    "version": 3
   },
   "file_extension": ".py",
   "mimetype": "text/x-python",
   "name": "python",
   "nbconvert_exporter": "python",
   "pygments_lexer": "ipython3",
   "version": "3.7.3"
  }
 },
 "nbformat": 4,
 "nbformat_minor": 2
}
