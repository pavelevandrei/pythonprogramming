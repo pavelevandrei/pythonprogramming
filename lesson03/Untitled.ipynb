{
 "cells": [
  {
   "cell_type": "code",
   "execution_count": 1,
   "metadata": {},
   "outputs": [],
   "source": [
    "#Функции\n",
    "def min2(a, b):\n",
    "    if a<= b:\n",
    "        return a\n",
    "    else:\n",
    "        return b"
   ]
  },
  {
   "cell_type": "code",
   "execution_count": 2,
   "metadata": {},
   "outputs": [
    {
     "data": {
      "text/plain": [
       "32"
      ]
     },
     "execution_count": 2,
     "metadata": {},
     "output_type": "execute_result"
    }
   ],
   "source": [
    "min(32, 40)"
   ]
  },
  {
   "cell_type": "code",
   "execution_count": 3,
   "metadata": {},
   "outputs": [
    {
     "data": {
      "text/plain": [
       "32"
      ]
     },
     "execution_count": 3,
     "metadata": {},
     "output_type": "execute_result"
    }
   ],
   "source": [
    "#Вызов функции в функции\n",
    "#Находим наименьшее из трёх чисел:\n",
    "min2(min2(32, 40), 57)"
   ]
  },
  {
   "cell_type": "code",
   "execution_count": 4,
   "metadata": {},
   "outputs": [
    {
     "data": {
      "text/plain": [
       "10555"
      ]
     },
     "execution_count": 4,
     "metadata": {},
     "output_type": "execute_result"
    }
   ],
   "source": [
    "def f(n):\n",
    "    return n * 10 + 5\n",
    "\n",
    "f(f(f(10)))"
   ]
  },
  {
   "cell_type": "code",
   "execution_count": 8,
   "metadata": {},
   "outputs": [
    {
     "name": "stdout",
     "output_type": "stream",
     "text": [
      "No returned value\n",
      "No returned value\n"
     ]
    }
   ],
   "source": [
    "#Функция без возвращаемого значения\n",
    "def inform_message1(string):\n",
    "    print(string)\n",
    "    return\n",
    "inform_message1('No returned value')\n",
    "def inform_message2(string):\n",
    "    print(string)\n",
    "    #вообще без return\n",
    "inform_message2('No returned value')"
   ]
  },
  {
   "cell_type": "code",
   "execution_count": 9,
   "metadata": {},
   "outputs": [
    {
     "name": "stdout",
     "output_type": "stream",
     "text": [
      "I have no parameters\n"
     ]
    }
   ],
   "source": [
    "#Функция без параметров\n",
    "def no_parameters():\n",
    "    print('I have no parameters')\n",
    "no_parameters()"
   ]
  },
  {
   "cell_type": "code",
   "execution_count": 16,
   "metadata": {},
   "outputs": [
    {
     "name": "stdout",
     "output_type": "stream",
     "text": [
      "1 -5 -2 -697\n"
     ]
    }
   ],
   "source": [
    "#Функция с произвольным числом параметров:\n",
    "def min1(*a):\n",
    "    m = a[0]\n",
    "    for x in a:\n",
    "        if x < m:\n",
    "            m = x\n",
    "    return m\n",
    "print(min1(1), min1(2, -5), min1(4, 5, 78, 2, 1, 47, -2), min1(*[-697, 9, 48, 75])) # в последнем распаковываем список"
   ]
  },
  {
   "cell_type": "code",
   "execution_count": 24,
   "metadata": {},
   "outputs": [
    {
     "data": {
      "text/plain": [
       "[0.3,\n",
       " 0.5,\n",
       " 0.7,\n",
       " 0.8999999999999999,\n",
       " 1.0999999999999999,\n",
       " 1.2999999999999998,\n",
       " 1.4999999999999998,\n",
       " 1.6999999999999997]"
      ]
     },
     "execution_count": 24,
     "metadata": {},
     "output_type": "execute_result"
    }
   ],
   "source": [
    "#Значение аргументов функции по умолчанию\n",
    "def my_range(start, stop, step = 1):\n",
    "    res = []\n",
    "    if step > 0:\n",
    "        x = start\n",
    "        while x < stop:\n",
    "            res += [x]\n",
    "            x += step\n",
    "    elif step < 0:\n",
    "        x = start\n",
    "        while x > stop:\n",
    "            res += [x]\n",
    "            x += step\n",
    "    return res\n",
    "my_range(1, 10, 0.5) #наша реализация позволяет работать с нецелым шагом\n",
    "my_range(0.3, 1.8, 0.2)"
   ]
  },
  {
   "cell_type": "code",
   "execution_count": 23,
   "metadata": {},
   "outputs": [
    {
     "name": "stdout",
     "output_type": "stream",
     "text": [
      "() 10\n",
      "(1, 2, 3) 10\n",
      "(1, 2, 3) 12\n"
     ]
    }
   ],
   "source": [
    "def f(*a, b=10):\n",
    "    print(a, b)\n",
    "f()                # () 10\n",
    "f(1, 2, 3)         # (1, 2, 3) 10\n",
    "f(1, 2, 3, b=12)   # (1, 2, 3) 12"
   ]
  },
  {
   "cell_type": "code",
   "execution_count": 25,
   "metadata": {},
   "outputs": [
    {
     "ename": "NameError",
     "evalue": "name 'a' is not defined",
     "output_type": "error",
     "traceback": [
      "\u001b[1;31m---------------------------------------------------------------------------\u001b[0m",
      "\u001b[1;31mNameError\u001b[0m                                 Traceback (most recent call last)",
      "\u001b[1;32m<ipython-input-25-b7ad86ecd984>\u001b[0m in \u001b[0;36m<module>\u001b[1;34m\u001b[0m\n\u001b[0;32m      3\u001b[0m     \u001b[0ma\u001b[0m \u001b[1;33m=\u001b[0m \u001b[1;36m100\u001b[0m\u001b[1;33m\u001b[0m\u001b[1;33m\u001b[0m\u001b[0m\n\u001b[0;32m      4\u001b[0m     \u001b[0mb\u001b[0m \u001b[1;33m=\u001b[0m \u001b[1;36m200\u001b[0m\u001b[1;33m\u001b[0m\u001b[1;33m\u001b[0m\u001b[0m\n\u001b[1;32m----> 5\u001b[1;33m \u001b[0mprint\u001b[0m\u001b[1;33m(\u001b[0m\u001b[0ma\u001b[0m\u001b[1;33m,\u001b[0m \u001b[0mb\u001b[0m\u001b[1;33m)\u001b[0m\u001b[1;33m\u001b[0m\u001b[1;33m\u001b[0m\u001b[0m\n\u001b[0m",
      "\u001b[1;31mNameError\u001b[0m: name 'a' is not defined"
     ]
    }
   ],
   "source": [
    "#Область видимости переменных функций\n",
    "def init_values():\n",
    "    a = 100\n",
    "    b = 200\n",
    "print(a, b)\n",
    "#переменные не видны изнутри функции"
   ]
  },
  {
   "cell_type": "code",
   "execution_count": 27,
   "metadata": {},
   "outputs": [
    {
     "name": "stdout",
     "output_type": "stream",
     "text": [
      "[0, 0, 0]\n"
     ]
    }
   ],
   "source": [
    "# Списки изменять в функции можно\n",
    "def append_zero(xs):\n",
    "    xs.append(0)\n",
    "\n",
    "a = []\n",
    "append_zero(a)\n",
    "append_zero(a)\n",
    "append_zero(a)\n",
    "print(a)"
   ]
  },
  {
   "cell_type": "code",
   "execution_count": 32,
   "metadata": {},
   "outputs": [
    {
     "name": "stdout",
     "output_type": "stream",
     "text": [
      "[0]\n",
      "[0]\n",
      "[1, 2, 3, 1]\n"
     ]
    }
   ],
   "source": [
    "def change_list(lst):\n",
    "    lst = [1, 2, 3]\n",
    "    lst += [1]\n",
    "    return lst\n",
    "a = [0]\n",
    "print(a)\n",
    "change_list(a) #присваиваемый новый лист не будет доступен вне функции\n",
    "print(a)\n",
    "a = change_list(a) #доступен только после оператора return\n",
    "print(a)"
   ]
  },
  {
   "cell_type": "code",
   "execution_count": 34,
   "metadata": {},
   "outputs": [
    {
     "name": "stdout",
     "output_type": "stream",
     "text": [
      "5\n"
     ]
    }
   ],
   "source": [
    "# Если переменной нет в теле функции, но она объявлена выше, то для функции\n",
    "# она глобальная\n",
    "a = 5\n",
    "def print_a():\n",
    "    print(a)\n",
    "print_a()"
   ]
  },
  {
   "cell_type": "code",
   "execution_count": 12,
   "metadata": {},
   "outputs": [
    {
     "name": "stdout",
     "output_type": "stream",
     "text": [
      "7.25 -5.25 -0.5\n"
     ]
    }
   ],
   "source": [
    "'''Напишите функцию f(x), которая возвращает значение следующей функции, определённой на всей числовой прямой:\n",
    "\n",
    "f(x)=⎧⎩⎨⎪⎪1−(x+2)2,−x2,(x−2)2+1,при x≤−2при −2<x≤2при 2<x\n",
    "Требуется реализовать только функцию, решение не должно осуществлять операций ввода-вывода.\n",
    "https://stepik.org/lesson/3372/step/8?auth=registration&unit=955\n",
    "'''\n",
    "def f(x):\n",
    "    if x <= -2:\n",
    "        return (1-(x+2)**2)\n",
    "    if x > 2:\n",
    "        return ((x-2)**2+1)\n",
    "    if  -2 < x <= 2:\n",
    "        return (-x/2)\n",
    "print(f(4.5), f(-4.5), f(1))"
   ]
  },
  {
   "cell_type": "code",
   "execution_count": 4,
   "metadata": {},
   "outputs": [
    {
     "name": "stdout",
     "output_type": "stream",
     "text": [
      "[1, 3]\n"
     ]
    }
   ],
   "source": [
    "'''Напишите функцию modify_list(l), которая принимает на вход список целых чисел, \n",
    "удаляет из него все нечётные значения, а чётные нацело делит на два. \n",
    "Функция не должна ничего возвращать, требуется только изменение переданного списка.\n",
    "'''\n",
    "lst = [1, 2, 3, 6, 5, 7]\n",
    "def modify_list(l):\n",
    "    ch_list = []\n",
    "    for i in range(len(l)):\n",
    "        if l[i] % 2 == 0:\n",
    "            ch_list.append(l[i])\n",
    "    for i in range (len(l)):\n",
    "        l.pop()\n",
    "    for i in range(len(ch_list)):\n",
    "        l.append(ch_list[i] // 2)\n",
    "modify_list(lst)\n",
    "print(lst)"
   ]
  },
  {
   "cell_type": "code",
   "execution_count": null,
   "metadata": {},
   "outputs": [],
   "source": []
  }
 ],
 "metadata": {
  "kernelspec": {
   "display_name": "Python 3",
   "language": "python",
   "name": "python3"
  },
  "language_info": {
   "codemirror_mode": {
    "name": "ipython",
    "version": 3
   },
   "file_extension": ".py",
   "mimetype": "text/x-python",
   "name": "python",
   "nbconvert_exporter": "python",
   "pygments_lexer": "ipython3",
   "version": "3.7.3"
  }
 },
 "nbformat": 4,
 "nbformat_minor": 2
}
