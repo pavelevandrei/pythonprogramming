{
 "cells": [
  {
   "cell_type": "code",
   "execution_count": 11,
   "metadata": {
    "scrolled": false
   },
   "outputs": [
    {
     "name": "stdout",
     "output_type": "stream",
     "text": [
      "<class '_io.TextIOWrapper'>\n",
      "KEK\n",
      "\n",
      "CHEBUREK\n"
     ]
    }
   ],
   "source": [
    "inf  = open('file1.txt', 'r')\n",
    "print(type(inf))\n",
    "s1 = inf.readline()\n",
    "s2 = inf.readline()\n",
    "print(s1)\n",
    "print(s2)"
   ]
  },
  {
   "cell_type": "code",
   "execution_count": 12,
   "metadata": {},
   "outputs": [
    {
     "name": "stdout",
     "output_type": "stream",
     "text": [
      "<class '_io.TextIOWrapper'>\n",
      "KEK\n",
      "CHEBUREK\n"
     ]
    }
   ],
   "source": [
    "inf  = open('file1.txt', 'r')\n",
    "print(type(inf))\n",
    "s1 = inf.readline().strip()\n",
    "s2 = inf.readline().strip()\n",
    "print(s1)\n",
    "print(s2)"
   ]
  },
  {
   "cell_type": "code",
   "execution_count": 1,
   "metadata": {},
   "outputs": [
    {
     "name": "stdout",
     "output_type": "stream",
     "text": [
      "KEK\n",
      "CHEBUREK\n",
      "Лулу\n",
      "1245\n",
      "Ооаллва\n",
      "1. Python 2.7 and 3.6 with these limited module imports: __future__, abc, array,\n",
      "bisect, calendar, cmath, collections, copy, datetime, decimal, doctest, fractions,\n",
      "functools, hashlib, heapq, io, itertools, json, locale, math, operator, pickle, pprint,\n",
      "random, re, string, time, types, unittest, StringIO (Python 2), typing (Python 3).\n",
      "(There is also an experimental version of Python 3.6 with Anaconda, which lets you import many more modules.)\n",
      "Backend source code.\n"
     ]
    }
   ],
   "source": [
    "#Чтение всего файла по строкам\n",
    "with open('file2.txt') as inf:\n",
    "    for line in inf:\n",
    "        line = line.strip()\n",
    "        print(line)"
   ]
  },
  {
   "cell_type": "code",
   "execution_count": 3,
   "metadata": {},
   "outputs": [
    {
     "name": "stdout",
     "output_type": "stream",
     "text": [
      "{'a': 12, 'b': 13}\n"
     ]
    }
   ],
   "source": [
    "d = {'a' : 12, 'b' : 13}\n",
    "print(str(d))"
   ]
  },
  {
   "cell_type": "code",
   "execution_count": 37,
   "metadata": {},
   "outputs": [
    {
     "name": "stdout",
     "output_type": "stream",
     "text": [
      "w8J6w5i10Q18w2u16g9T11d17k15J1Q7h4A13V8D8E9B18F8m3z5p6W3d16V19d7\n",
      "['w', 8, 'J', 6, 'w', 5, 'i', 10, 'Q', 18, 'w', 2, 'u', 16, 'g', 9, 'T', 11, 'd', 17, 'k', 15, 'J', 1, 'Q', 7, 'h', 4, 'A', 13, 'V', 8, 'D', 8, 'E', 9, 'B', 18, 'F', 8, 'm', 3, 'z', 5, 'p', 6, 'W', 3, 'd', 16, 'V', 19, 'd', 7]\n",
      "wwwwwwwwJJJJJJwwwwwiiiiiiiiiiQQQQQQQQQQQQQQQQQQwwuuuuuuuuuuuuuuuugggggggggTTTTTTTTTTTdddddddddddddddddkkkkkkkkkkkkkkkJQQQQQQQhhhhAAAAAAAAAAAAAVVVVVVVVDDDDDDDDEEEEEEEEEBBBBBBBBBBBBBBBBBBFFFFFFFFmmmzzzzzppppppWWWddddddddddddddddVVVVVVVVVVVVVVVVVVVddddddd\n"
     ]
    }
   ],
   "source": [
    "'''На прошлой неделе мы сжимали строки, используя кодирование повторов. Теперь нашей задачей будет \n",
    "восстановление исходной строки обратно.\n",
    "\n",
    "Напишите программу, которая считывает из файла строку, соответствующую тексту, сжатому с помощью кодирования повторов, и\n",
    "производит обратную операцию, получая исходный текст.\n",
    "\n",
    "Запишите полученный текст в файл и прикрепите его, как ответ на это задание.\n",
    "\n",
    "В исходном тексте не встречаются цифры, так что код однозначно интерпретируем.\n",
    "\n",
    "Примечание. Это первое задание типа Dataset Quiz. В таких заданиях после нажатия \"Start Quiz\" у вас\n",
    "появляется ссылка \"download your dataset\". Используйте эту ссылку для того, чтобы загрузить файл со входными \n",
    "данными к себе на компьютер. Запустите вашу программу, используя этот файл в качестве входных данных. Выходной файл, \n",
    "который при этом у вас получится, надо отправить в качестве ответа на эту задачу. '''\n",
    "\n",
    "with open('dataset_3363_2.txt', 'r') as inf, open('dataset_output.txt', 'w') as ouf:\n",
    "    s = inf.readline().strip() #Считали строку\n",
    "    print(s)\n",
    "    s_list = [] #Пустой лист для парсинга строки. Хотим получить списко вида: Символ, сколько раз повторяется\n",
    "    flag = False #Флаг для определения непервого символа\n",
    "    for ch in s:\n",
    "        if ch.isalpha() and flag: #Если символ буква и не первый в строке, добавляем накопленое число\n",
    "            s_list.append(int(temp_s))\n",
    "            s_list.append(ch)\n",
    "            temp_s = ''\n",
    "\n",
    "        elif ch.isalpha():\n",
    "            s_list.append(ch)\n",
    "            temp_s = ''\n",
    "            flag = True\n",
    "        else:\n",
    "            temp_s += ch #накапливаем число\n",
    "    s_list.append(int(temp_s)) # Не забываем добавить в конце последнее число\n",
    "    print(s_list)\n",
    "    final_s = []\n",
    "    for i in range(len(s_list)):\n",
    "        if i % 2 == 1:\n",
    "            for j in range(int(s_list[i])):\n",
    "                temp_i = s_list[i-1]\n",
    "                final_s.append(temp_i)\n",
    "    output_string = ''.join(final_s)\n",
    "    print(output_string)\n",
    "    ouf.write(output_string)"
   ]
  },
  {
   "cell_type": "code",
   "execution_count": 46,
   "metadata": {},
   "outputs": [
    {
     "name": "stdout",
     "output_type": "stream",
     "text": [
      "<class 'list'>\n",
      "['czaac', 'cydc', 'zbtbcdttz', 'zaxuuy', 'ddxtxuya', 'dtbtay', 'yu', 'pcxcxa', 'tpxaapxyp', 'xxuzt', 'zuaz', 'cbzpzcyy', 'bat', 'zbtbcdttz', 'yuzcac', 'zuaz', 'tbt', 'cxya', 'bat', 'pzytpuux', 'zp', 'tpxaapxyp', 't', 'y', 'xxuzt', 'uy', 'atuuy', 'uy', 'dacua', 'atuuy', 'ac', 'tbxtzda', 'a', 'dacua', 'bbxxyct', 'tbauyc', 'batbpc', 'ddbadxzxd', 'xuaa', 'pz', 'ddbadxzxd', 'bybzx', 'bybzx', 'xttbyzt', 'dbpxttuy', 'bubdtptx', 'xytyt', 'uxcu', 'tyxyapx', 'dpz', 'dxddzcccc', 'dpz', 'dpz', 'u', 'dxddzcccc', 'xzbt', 'dxddzcccc', 'upzap', 'dxddzcccc', 'tbpuupb', 'bbzz', 'pdpzcu', 'ybdatd', 'ybdatd', 'datzppc', 'xyp', 'tbpuupb', 'tbpuupb', 'tdubdacd', 'pbbdcau', 'datzppc', 'zzuxd', 'cutccyac', 'uy', 'tbpuupb', 'zzuxd', 'ypptabppd', 'xyp', 'dpdbbzy', 'xyp', 'cutccyac', 'dyp', 'ydatx', 'pxpdbcta', 'b', 'ydatx', 'tbpuupb', 'xyp', 'bxpyc', 'yxtabua', 'd', 'cc', 'yzyuza', 'dpdyxtutb', 'zt', 'yxtabua', 'c', 'dpdyxtutb', 'bpaxy', 'yzyuza', 'ybcy', 'xbypdcat', 'zuybdybc', 'd', 'dd', 'dpppuyydu', 'd', 'yzyuza', 'a', 'pppb', 'pycbaut', 'abuz', 'dpdyxtutb', 'yxtabua', 'yxtabua', 'zazctapa', 'tcbd', 'p', 'ubd', 'dbcyccuu', 'u', 'cudxx', 'uzp', 'typucubdx', 'typucubdx', 'yyduzcpu', 'yyduzcpu', 'dyazutxb', 'xbp', 'typucubdx', 'duapd', 'u', 'bxtpt', 'bxtpt', 'typucubdx', 'audtdz', 'tzdppy', 'pddxxxdap', 'zxdpbx', 'u', 'x', 'ypyty', 'uacxbxtua', 'ttbt', 'ttbt', 'zbypdzp', 'xctbtaba', 'bb', 'zxyypuax', 'bxb', 'zxyypuax', 'cczb', 'xzpy', 'typucubdx', 'd', 'pxybtdyyc', 'tzdppy', 'yczzbay', 'dcxyaduxa', 'btxtb', 'btxtb', 'xt', 'xt', 'zdyuz', 'cbx', 'xt', 'btxtb', 'btxtb', 'bbzzpyyty', 'uxtuuua', 'a', 'aupudtbcy', 'z', 'by', 'btxtb', 'btxtb', 'btypz', 'btxtb', 'btxtb', 'aupudtbcy']\n",
      "{'czaac': 1, 'cydc': 1, 'zbtbcdttz': 2, 'zaxuuy': 1, 'ddxtxuya': 1, 'dtbtay': 1, 'yu': 1, 'pcxcxa': 1, 'tpxaapxyp': 2, 'xxuzt': 2, 'zuaz': 2, 'cbzpzcyy': 1, 'bat': 2, 'yuzcac': 1, 'tbt': 1, 'cxya': 1, 'pzytpuux': 1, 'zp': 1, 't': 1, 'y': 1, 'uy': 3, 'atuuy': 2, 'dacua': 2, 'ac': 1, 'tbxtzda': 1, 'a': 3, 'bbxxyct': 1, 'tbauyc': 1, 'batbpc': 1, 'ddbadxzxd': 2, 'xuaa': 1, 'pz': 1, 'bybzx': 2, 'xttbyzt': 1, 'dbpxttuy': 1, 'bubdtptx': 1, 'xytyt': 1, 'uxcu': 1, 'tyxyapx': 1, 'dpz': 3, 'dxddzcccc': 4, 'u': 4, 'xzbt': 1, 'upzap': 1, 'tbpuupb': 5, 'bbzz': 1, 'pdpzcu': 1, 'ybdatd': 2, 'datzppc': 2, 'xyp': 4, 'tdubdacd': 1, 'pbbdcau': 1, 'zzuxd': 2, 'cutccyac': 2, 'ypptabppd': 1, 'dpdbbzy': 1, 'dyp': 1, 'ydatx': 2, 'pxpdbcta': 1, 'b': 1, 'bxpyc': 1, 'yxtabua': 4, 'd': 4, 'cc': 1, 'yzyuza': 3, 'dpdyxtutb': 3, 'zt': 1, 'c': 1, 'bpaxy': 1, 'ybcy': 1, 'xbypdcat': 1, 'zuybdybc': 1, 'dd': 1, 'dpppuyydu': 1, 'pppb': 1, 'pycbaut': 1, 'abuz': 1, 'zazctapa': 1, 'tcbd': 1, 'p': 1, 'ubd': 1, 'dbcyccuu': 1, 'cudxx': 1, 'uzp': 1, 'typucubdx': 5, 'yyduzcpu': 2, 'dyazutxb': 1, 'xbp': 1, 'duapd': 1, 'bxtpt': 2, 'audtdz': 1, 'tzdppy': 2, 'pddxxxdap': 1, 'zxdpbx': 1, 'x': 1, 'ypyty': 1, 'uacxbxtua': 1, 'ttbt': 2, 'zbypdzp': 1, 'xctbtaba': 1, 'bb': 1, 'zxyypuax': 2, 'bxb': 1, 'cczb': 1, 'xzpy': 1, 'pxybtdyyc': 1, 'yczzbay': 1, 'dcxyaduxa': 1, 'btxtb': 8, 'xt': 3, 'zdyuz': 1, 'cbx': 1, 'bbzzpyyty': 1, 'uxtuuua': 1, 'aupudtbcy': 2, 'z': 1, 'by': 1, 'btypz': 1}\n",
      "['btxtb'] 8\n",
      "btxtb 8\n"
     ]
    }
   ],
   "source": [
    "'''Недавно мы считали для каждого слова количество его вхождений в строку. \n",
    "Но на все слова может быть не так интересно смотреть, как, например, на наиболее часто используемые.\n",
    "\n",
    "Напишите программу, которая считывает текст из файла (в файле может быть больше одной строки) и\n",
    "выводит самое частое слово в этом тексте и через пробел то, сколько раз оно встретилось. \n",
    "Если таких слов несколько, вывести лексикографически первое (можно использовать оператор < для строк).\n",
    "\n",
    "В качестве ответа укажите вывод программы, а не саму программу.\n",
    "\n",
    "Слова, написанные в разных регистрах, считаются одинаковыми.'''\n",
    "\n",
    "with open('dataset_3363_3.txt', 'r') as inf:\n",
    "    s = inf.read().lower().split()\n",
    "    print(type(s))\n",
    "    print(s)\n",
    "    d = dict()\n",
    "    for item in s: # Засовываем все слова в словарь, где ключ это слово, а значение - сколько раз оно встретилось\n",
    "        if item not in d:\n",
    "            d[item] = 1\n",
    "        else:\n",
    "            d[item] += 1\n",
    "\n",
    "\n",
    "print(d)\n",
    "temp_key = []\n",
    "temp_num = 0\n",
    "for key in d:\n",
    "    if d[key] > temp_num:\n",
    "        temp_num = d[key]\n",
    "        temp_key = []\n",
    "        temp_key.append(key)\n",
    "    elif d[key] == temp_num:  # если несколько слов с одинаковым число, записываем их в массив\n",
    "        temp_key.append(key)\n",
    "print(temp_key, temp_num)\n",
    "result_key = min(temp_key)\n",
    "result_num = temp_num\n",
    "print(result_key, result_num)\n",
    "    "
   ]
  },
  {
   "cell_type": "code",
   "execution_count": 48,
   "metadata": {},
   "outputs": [
    {
     "name": "stdout",
     "output_type": "stream",
     "text": [
      "['и'] 454\n",
      "и 454\n"
     ]
    }
   ],
   "source": [
    "#Версия для конституции\n",
    "'''Недавно мы считали для каждого слова количество его вхождений в строку. \n",
    "Но на все слова может быть не так интересно смотреть, как, например, на наиболее часто используемые.\n",
    "\n",
    "Напишите программу, которая считывает текст из файла (в файле может быть больше одной строки) и\n",
    "выводит самое частое слово в этом тексте и через пробел то, сколько раз оно встретилось. \n",
    "Если таких слов несколько, вывести лексикографически первое (можно использовать оператор < для строк).\n",
    "\n",
    "В качестве ответа укажите вывод программы, а не саму программу.\n",
    "\n",
    "Слова, написанные в разных регистрах, считаются одинаковыми.'''\n",
    "\n",
    "with open('constituition.txt', 'r') as inf:\n",
    "    s = inf.read().lower().split()\n",
    "    d = dict()\n",
    "    for item in s: # Засовываем все слова в словарь, где ключ это слово, а значение - сколько раз оно встретилось\n",
    "        if item not in d:\n",
    "            d[item] = 1\n",
    "        else:\n",
    "            d[item] += 1\n",
    "\n",
    "\n",
    "temp_key = []\n",
    "temp_num = 0\n",
    "for key in d:\n",
    "    if d[key] > temp_num:\n",
    "        temp_num = d[key]\n",
    "        temp_key = []\n",
    "        temp_key.append(key)\n",
    "    elif d[key] == temp_num:  # если несколько слов с одинаковым число, записываем их в массив\n",
    "        temp_key.append(key)\n",
    "print(temp_key, temp_num)\n",
    "result_key = min(temp_key)\n",
    "result_num = temp_num\n",
    "print(result_key, result_num)"
   ]
  },
  {
   "cell_type": "code",
   "execution_count": null,
   "metadata": {},
   "outputs": [],
   "source": []
  }
 ],
 "metadata": {
  "kernelspec": {
   "display_name": "Python 3",
   "language": "python",
   "name": "python3"
  },
  "language_info": {
   "codemirror_mode": {
    "name": "ipython",
    "version": 3
   },
   "file_extension": ".py",
   "mimetype": "text/x-python",
   "name": "python",
   "nbconvert_exporter": "python",
   "pygments_lexer": "ipython3",
   "version": "3.7.3"
  }
 },
 "nbformat": 4,
 "nbformat_minor": 2
}
